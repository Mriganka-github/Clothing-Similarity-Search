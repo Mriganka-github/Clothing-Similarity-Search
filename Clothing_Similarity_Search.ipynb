{
  "cells": [
    {
      "cell_type": "code",
      "execution_count": 28,
      "metadata": {
        "id": "oaAyp80YymEP"
      },
      "outputs": [],
      "source": [
        "!pip install -q streamlit"
      ]
    },
    {
      "cell_type": "code",
      "execution_count": 29,
      "metadata": {
        "id": "MlOsDVRJ-igF"
      },
      "outputs": [],
      "source": [
        "import pandas as pd\n",
        "import numpy as np\n",
        "import nltk\n",
        "import string\n",
        "from nltk import word_tokenize\n",
        "from nltk.corpus import stopwords\n",
        "from nltk.stem.porter import PorterStemmer\n",
        "import gensim\n",
        "from gensim.models import Word2Vec"
      ]
    },
    {
      "cell_type": "code",
      "execution_count": 30,
      "metadata": {
        "colab": {
          "base_uri": "https://localhost:8080/"
        },
        "id": "KcuEi2cJIzY-",
        "outputId": "143b408c-4ab0-48cc-f09f-944eaced3b9b"
      },
      "outputs": [
        {
          "output_type": "stream",
          "name": "stderr",
          "text": [
            "[nltk_data] Downloading package punkt to /root/nltk_data...\n",
            "[nltk_data]   Package punkt is already up-to-date!\n"
          ]
        },
        {
          "output_type": "execute_result",
          "data": {
            "text/plain": [
              "True"
            ]
          },
          "metadata": {},
          "execution_count": 30
        }
      ],
      "source": [
        "nltk.download('punkt')"
      ]
    },
    {
      "cell_type": "code",
      "execution_count": 31,
      "metadata": {
        "colab": {
          "base_uri": "https://localhost:8080/"
        },
        "id": "Z3_PymPyuHy-",
        "outputId": "42d0a537-47b3-4d86-b93e-7741b55710fd"
      },
      "outputs": [
        {
          "output_type": "stream",
          "name": "stdout",
          "text": [
            "Drive already mounted at /content/drive; to attempt to forcibly remount, call drive.mount(\"/content/drive\", force_remount=True).\n"
          ]
        }
      ],
      "source": [
        "from google.colab import drive\n",
        "drive.mount('/content/drive')"
      ]
    },
    {
      "cell_type": "code",
      "execution_count": 32,
      "metadata": {
        "colab": {
          "base_uri": "https://localhost:8080/"
        },
        "id": "87gkSMXRI6an",
        "outputId": "e10b2d16-adb4-4ddc-bd53-99aeff291c5e"
      },
      "outputs": [
        {
          "output_type": "stream",
          "name": "stderr",
          "text": [
            "[nltk_data] Downloading package stopwords to /root/nltk_data...\n",
            "[nltk_data]   Package stopwords is already up-to-date!\n"
          ]
        },
        {
          "output_type": "execute_result",
          "data": {
            "text/plain": [
              "True"
            ]
          },
          "metadata": {},
          "execution_count": 32
        }
      ],
      "source": [
        "nltk.download('stopwords')"
      ]
    },
    {
      "cell_type": "code",
      "execution_count": 33,
      "metadata": {
        "colab": {
          "base_uri": "https://localhost:8080/",
          "height": 617
        },
        "id": "tYklLPjD-sl7",
        "outputId": "f356748e-a378-4b10-e1d4-51607c2dda47"
      },
      "outputs": [
        {
          "output_type": "stream",
          "name": "stderr",
          "text": [
            "<ipython-input-33-5c588748e2d8>:1: DtypeWarning: Columns (9) have mixed types. Specify dtype option on import or set low_memory=False.\n",
            "  df= pd.read_csv('/content/drive/MyDrive/Datasets/Myntra Fasion Clothing.csv')\n"
          ]
        },
        {
          "output_type": "execute_result",
          "data": {
            "text/plain": [
              "                                                 URL  Product_id   BrandName  \\\n",
              "0  https://www.myntra.com/jeans/roadster/roadster...     2296012    Roadster   \n",
              "1  https://www.myntra.com/track-pants/locomotive/...    13780156  LOCOMOTIVE   \n",
              "2  https://www.myntra.com/shirts/roadster/roadste...    11895958    Roadster   \n",
              "3  https://www.myntra.com/shapewear/zivame/zivame...     4335679      Zivame   \n",
              "4  https://www.myntra.com/tshirts/roadster/roadst...    11690882    Roadster   \n",
              "\n",
              "                Category Individual_category category_by_Gender  \\\n",
              "0            Bottom Wear               jeans                Men   \n",
              "1            Bottom Wear         track-pants                Men   \n",
              "2                Topwear              shirts                Men   \n",
              "3  Lingerie & Sleep Wear           shapewear              Women   \n",
              "4                Western             tshirts              Women   \n",
              "\n",
              "                                         Description  DiscountPrice (in Rs)  \\\n",
              "0  roadster men navy blue slim fit mid rise clean...                  824.0   \n",
              "1  locomotive men black  white solid slim fit tra...                  517.0   \n",
              "2  roadster men navy white  black geometric print...                  629.0   \n",
              "3  zivame women black saree shapewear zi3023core0...                  893.0   \n",
              "4  roadster women white solid v neck pure cotton ...                    NaN   \n",
              "\n",
              "   OriginalPrice (in Rs) DiscountOffer              SizeOption  Ratings  \\\n",
              "0                 1499.0       45% OFF      28, 30, 32, 34, 36      3.9   \n",
              "1                 1149.0       55% OFF             S, M, L, XL      4.0   \n",
              "2                 1399.0       55% OFF  38, 40, 42, 44, 46, 48      4.3   \n",
              "3                 1295.0       31% OFF        S, M, L, XL, XXL      4.2   \n",
              "4                  599.0       35% OFF         XS, S, M, L, XL      4.2   \n",
              "\n",
              "   Reviews  \n",
              "0    999.0  \n",
              "1    999.0  \n",
              "2    999.0  \n",
              "3    999.0  \n",
              "4    999.0  "
            ],
            "text/html": [
              "\n",
              "  <div id=\"df-5cab1e20-cf19-4b65-bc2b-a823837b0652\">\n",
              "    <div class=\"colab-df-container\">\n",
              "      <div>\n",
              "<style scoped>\n",
              "    .dataframe tbody tr th:only-of-type {\n",
              "        vertical-align: middle;\n",
              "    }\n",
              "\n",
              "    .dataframe tbody tr th {\n",
              "        vertical-align: top;\n",
              "    }\n",
              "\n",
              "    .dataframe thead th {\n",
              "        text-align: right;\n",
              "    }\n",
              "</style>\n",
              "<table border=\"1\" class=\"dataframe\">\n",
              "  <thead>\n",
              "    <tr style=\"text-align: right;\">\n",
              "      <th></th>\n",
              "      <th>URL</th>\n",
              "      <th>Product_id</th>\n",
              "      <th>BrandName</th>\n",
              "      <th>Category</th>\n",
              "      <th>Individual_category</th>\n",
              "      <th>category_by_Gender</th>\n",
              "      <th>Description</th>\n",
              "      <th>DiscountPrice (in Rs)</th>\n",
              "      <th>OriginalPrice (in Rs)</th>\n",
              "      <th>DiscountOffer</th>\n",
              "      <th>SizeOption</th>\n",
              "      <th>Ratings</th>\n",
              "      <th>Reviews</th>\n",
              "    </tr>\n",
              "  </thead>\n",
              "  <tbody>\n",
              "    <tr>\n",
              "      <th>0</th>\n",
              "      <td>https://www.myntra.com/jeans/roadster/roadster...</td>\n",
              "      <td>2296012</td>\n",
              "      <td>Roadster</td>\n",
              "      <td>Bottom Wear</td>\n",
              "      <td>jeans</td>\n",
              "      <td>Men</td>\n",
              "      <td>roadster men navy blue slim fit mid rise clean...</td>\n",
              "      <td>824.0</td>\n",
              "      <td>1499.0</td>\n",
              "      <td>45% OFF</td>\n",
              "      <td>28, 30, 32, 34, 36</td>\n",
              "      <td>3.9</td>\n",
              "      <td>999.0</td>\n",
              "    </tr>\n",
              "    <tr>\n",
              "      <th>1</th>\n",
              "      <td>https://www.myntra.com/track-pants/locomotive/...</td>\n",
              "      <td>13780156</td>\n",
              "      <td>LOCOMOTIVE</td>\n",
              "      <td>Bottom Wear</td>\n",
              "      <td>track-pants</td>\n",
              "      <td>Men</td>\n",
              "      <td>locomotive men black  white solid slim fit tra...</td>\n",
              "      <td>517.0</td>\n",
              "      <td>1149.0</td>\n",
              "      <td>55% OFF</td>\n",
              "      <td>S, M, L, XL</td>\n",
              "      <td>4.0</td>\n",
              "      <td>999.0</td>\n",
              "    </tr>\n",
              "    <tr>\n",
              "      <th>2</th>\n",
              "      <td>https://www.myntra.com/shirts/roadster/roadste...</td>\n",
              "      <td>11895958</td>\n",
              "      <td>Roadster</td>\n",
              "      <td>Topwear</td>\n",
              "      <td>shirts</td>\n",
              "      <td>Men</td>\n",
              "      <td>roadster men navy white  black geometric print...</td>\n",
              "      <td>629.0</td>\n",
              "      <td>1399.0</td>\n",
              "      <td>55% OFF</td>\n",
              "      <td>38, 40, 42, 44, 46, 48</td>\n",
              "      <td>4.3</td>\n",
              "      <td>999.0</td>\n",
              "    </tr>\n",
              "    <tr>\n",
              "      <th>3</th>\n",
              "      <td>https://www.myntra.com/shapewear/zivame/zivame...</td>\n",
              "      <td>4335679</td>\n",
              "      <td>Zivame</td>\n",
              "      <td>Lingerie &amp; Sleep Wear</td>\n",
              "      <td>shapewear</td>\n",
              "      <td>Women</td>\n",
              "      <td>zivame women black saree shapewear zi3023core0...</td>\n",
              "      <td>893.0</td>\n",
              "      <td>1295.0</td>\n",
              "      <td>31% OFF</td>\n",
              "      <td>S, M, L, XL, XXL</td>\n",
              "      <td>4.2</td>\n",
              "      <td>999.0</td>\n",
              "    </tr>\n",
              "    <tr>\n",
              "      <th>4</th>\n",
              "      <td>https://www.myntra.com/tshirts/roadster/roadst...</td>\n",
              "      <td>11690882</td>\n",
              "      <td>Roadster</td>\n",
              "      <td>Western</td>\n",
              "      <td>tshirts</td>\n",
              "      <td>Women</td>\n",
              "      <td>roadster women white solid v neck pure cotton ...</td>\n",
              "      <td>NaN</td>\n",
              "      <td>599.0</td>\n",
              "      <td>35% OFF</td>\n",
              "      <td>XS, S, M, L, XL</td>\n",
              "      <td>4.2</td>\n",
              "      <td>999.0</td>\n",
              "    </tr>\n",
              "  </tbody>\n",
              "</table>\n",
              "</div>\n",
              "      <button class=\"colab-df-convert\" onclick=\"convertToInteractive('df-5cab1e20-cf19-4b65-bc2b-a823837b0652')\"\n",
              "              title=\"Convert this dataframe to an interactive table.\"\n",
              "              style=\"display:none;\">\n",
              "        \n",
              "  <svg xmlns=\"http://www.w3.org/2000/svg\" height=\"24px\"viewBox=\"0 0 24 24\"\n",
              "       width=\"24px\">\n",
              "    <path d=\"M0 0h24v24H0V0z\" fill=\"none\"/>\n",
              "    <path d=\"M18.56 5.44l.94 2.06.94-2.06 2.06-.94-2.06-.94-.94-2.06-.94 2.06-2.06.94zm-11 1L8.5 8.5l.94-2.06 2.06-.94-2.06-.94L8.5 2.5l-.94 2.06-2.06.94zm10 10l.94 2.06.94-2.06 2.06-.94-2.06-.94-.94-2.06-.94 2.06-2.06.94z\"/><path d=\"M17.41 7.96l-1.37-1.37c-.4-.4-.92-.59-1.43-.59-.52 0-1.04.2-1.43.59L10.3 9.45l-7.72 7.72c-.78.78-.78 2.05 0 2.83L4 21.41c.39.39.9.59 1.41.59.51 0 1.02-.2 1.41-.59l7.78-7.78 2.81-2.81c.8-.78.8-2.07 0-2.86zM5.41 20L4 18.59l7.72-7.72 1.47 1.35L5.41 20z\"/>\n",
              "  </svg>\n",
              "      </button>\n",
              "      \n",
              "  <style>\n",
              "    .colab-df-container {\n",
              "      display:flex;\n",
              "      flex-wrap:wrap;\n",
              "      gap: 12px;\n",
              "    }\n",
              "\n",
              "    .colab-df-convert {\n",
              "      background-color: #E8F0FE;\n",
              "      border: none;\n",
              "      border-radius: 50%;\n",
              "      cursor: pointer;\n",
              "      display: none;\n",
              "      fill: #1967D2;\n",
              "      height: 32px;\n",
              "      padding: 0 0 0 0;\n",
              "      width: 32px;\n",
              "    }\n",
              "\n",
              "    .colab-df-convert:hover {\n",
              "      background-color: #E2EBFA;\n",
              "      box-shadow: 0px 1px 2px rgba(60, 64, 67, 0.3), 0px 1px 3px 1px rgba(60, 64, 67, 0.15);\n",
              "      fill: #174EA6;\n",
              "    }\n",
              "\n",
              "    [theme=dark] .colab-df-convert {\n",
              "      background-color: #3B4455;\n",
              "      fill: #D2E3FC;\n",
              "    }\n",
              "\n",
              "    [theme=dark] .colab-df-convert:hover {\n",
              "      background-color: #434B5C;\n",
              "      box-shadow: 0px 1px 3px 1px rgba(0, 0, 0, 0.15);\n",
              "      filter: drop-shadow(0px 1px 2px rgba(0, 0, 0, 0.3));\n",
              "      fill: #FFFFFF;\n",
              "    }\n",
              "  </style>\n",
              "\n",
              "      <script>\n",
              "        const buttonEl =\n",
              "          document.querySelector('#df-5cab1e20-cf19-4b65-bc2b-a823837b0652 button.colab-df-convert');\n",
              "        buttonEl.style.display =\n",
              "          google.colab.kernel.accessAllowed ? 'block' : 'none';\n",
              "\n",
              "        async function convertToInteractive(key) {\n",
              "          const element = document.querySelector('#df-5cab1e20-cf19-4b65-bc2b-a823837b0652');\n",
              "          const dataTable =\n",
              "            await google.colab.kernel.invokeFunction('convertToInteractive',\n",
              "                                                     [key], {});\n",
              "          if (!dataTable) return;\n",
              "\n",
              "          const docLinkHtml = 'Like what you see? Visit the ' +\n",
              "            '<a target=\"_blank\" href=https://colab.research.google.com/notebooks/data_table.ipynb>data table notebook</a>'\n",
              "            + ' to learn more about interactive tables.';\n",
              "          element.innerHTML = '';\n",
              "          dataTable['output_type'] = 'display_data';\n",
              "          await google.colab.output.renderOutput(dataTable, element);\n",
              "          const docLink = document.createElement('div');\n",
              "          docLink.innerHTML = docLinkHtml;\n",
              "          element.appendChild(docLink);\n",
              "        }\n",
              "      </script>\n",
              "    </div>\n",
              "  </div>\n",
              "  "
            ]
          },
          "metadata": {},
          "execution_count": 33
        }
      ],
      "source": [
        "df= pd.read_csv('/content/drive/MyDrive/Datasets/Myntra Fasion Clothing.csv')\n",
        "df.head()"
      ]
    },
    {
      "cell_type": "code",
      "execution_count": 34,
      "metadata": {
        "colab": {
          "base_uri": "https://localhost:8080/"
        },
        "id": "NEFvhMMUBN8S",
        "outputId": "7a556955-8cad-4167-f920-451234913265"
      },
      "outputs": [
        {
          "output_type": "execute_result",
          "data": {
            "text/plain": [
              "(526564, 13)"
            ]
          },
          "metadata": {},
          "execution_count": 34
        }
      ],
      "source": [
        "df.shape"
      ]
    },
    {
      "cell_type": "code",
      "execution_count": 35,
      "metadata": {
        "id": "U6upQSxq-ysJ"
      },
      "outputs": [],
      "source": [
        "# If want to include all of product description:  description +BrandName+Category+...\n",
        "#df['raw_text'] = df['BrandName'] + ' '+ df['Category'] +' '+ df['Individual_category'] +' '+ df['category_by_Gender'] +' '+ df['Description']\n",
        "#df['raw_text']"
      ]
    },
    {
      "cell_type": "code",
      "execution_count": 36,
      "metadata": {
        "id": "uF2u0qYuALaN"
      },
      "outputs": [],
      "source": [
        "def preprocess_txt(text):\n",
        "  # convert all words to lower case\n",
        "  text = text.lower()\n",
        "  # remove all punctuations \n",
        "  text_p = \"\".join([char for char in text if char not in string.punctuation])\n",
        "  # tokenize the sentence\n",
        "  words = word_tokenize(text_p)\n",
        "  # remove stop words of english corpora\n",
        "  stop_words = stopwords.words('english')\n",
        "  filtered_words = [word for word in words if word not in stop_words]\n",
        "  # remove duplicate words\n",
        "  final_text = list(set(filtered_words))\n",
        "  return final_text"
      ]
    },
    {
      "cell_type": "code",
      "execution_count": 37,
      "metadata": {
        "colab": {
          "base_uri": "https://localhost:8080/"
        },
        "id": "LHbzoHieIV9I",
        "outputId": "bfbebb50-da4d-4b0d-df1b-042979675cb1"
      },
      "outputs": [
        {
          "output_type": "execute_result",
          "data": {
            "text/plain": [
              "0         mid clean jeans look roadster fit men rise sli...\n",
              "1         track solid fit pants men white slim black loc...\n",
              "2         sustainable printed casual roadster men white ...\n",
              "3         saree women shapewear zivame black zi3023core0...\n",
              "4         neck women cotton pure roadster solid v white ...\n",
              "                                ...                        \n",
              "526559             jumper hm women beige oversized cashmere\n",
              "526560          water repellent hm women jacket black parka\n",
              "526561                   sheath designs 250 lace dress blue\n",
              "526562               printed women masaba line dress yellow\n",
              "526563             extended sleeves jockey women blue shirt\n",
              "Name: processed_text, Length: 526564, dtype: object"
            ]
          },
          "metadata": {},
          "execution_count": 37
        }
      ],
      "source": [
        "# process the product description column and store it in a new column\n",
        "df['processed_text'] = [' '.join(word for word in preprocess_txt(s)) for s in list(df['Description'])]\n",
        "df['processed_text']"
      ]
    },
    {
      "cell_type": "code",
      "execution_count": 38,
      "metadata": {
        "id": "wbLiCRmPPijp"
      },
      "outputs": [],
      "source": [
        "sentences = list(df['processed_text'].values)"
      ]
    },
    {
      "cell_type": "markdown",
      "metadata": {
        "id": "emAzsec1inGv"
      },
      "source": [
        "**Doc2Vec**"
      ]
    },
    {
      "cell_type": "code",
      "execution_count": 39,
      "metadata": {
        "id": "unRKum5pP9hM"
      },
      "outputs": [],
      "source": [
        "from gensim.models import doc2vec\n",
        "from collections import namedtuple\n",
        "\n",
        "docs = []\n",
        "# create tuples of sentences containg the sentence and its index, and store them in docs\n",
        "analyzedDocument = namedtuple('AnalyzedDocument', 'words tags')\n",
        "for i, text in enumerate(sentences):\n",
        "    words = text.lower().split()\n",
        "    tags = [i]\n",
        "    docs.append(analyzedDocument(words, tags))\n",
        "\n",
        "# Train model (set min_count = 1, if you want the model to work with the provided example data set)\n",
        "\n",
        "model = doc2vec.Doc2Vec(docs, vector_size = 100, window = 5, min_count = 1)"
      ]
    },
    {
      "cell_type": "code",
      "execution_count": 40,
      "metadata": {
        "colab": {
          "base_uri": "https://localhost:8080/"
        },
        "id": "PmS84pNcfikw",
        "outputId": "880d65c0-bab4-4a8c-914b-fa6c35e5513e"
      },
      "outputs": [
        {
          "output_type": "execute_result",
          "data": {
            "text/plain": [
              "array([ 0.0413686 ,  0.00165472,  0.01808582,  0.06252225,  0.01978071,\n",
              "       -0.01674396,  0.0092371 , -0.01497122, -0.02467414,  0.00652668,\n",
              "       -0.00363385, -0.03850319, -0.0017023 , -0.00974618, -0.04461294,\n",
              "       -0.0364798 ,  0.03819523,  0.01710616,  0.00735543, -0.01120766,\n",
              "       -0.03635309,  0.04315861, -0.01431848, -0.01352224,  0.0354408 ,\n",
              "       -0.01499189, -0.0373788 , -0.01244939,  0.06822794,  0.02791616,\n",
              "        0.00193861,  0.00274997,  0.00230948, -0.04152346, -0.04624591,\n",
              "        0.00735034, -0.00614942,  0.08729645, -0.04388147, -0.01851941,\n",
              "        0.00462456, -0.06897203,  0.02223651, -0.07451073, -0.07112597,\n",
              "        0.01017205, -0.00094792, -0.01312823, -0.01737777,  0.03142688,\n",
              "       -0.0306346 , -0.0081484 ,  0.02837589,  0.03394856, -0.01046773,\n",
              "       -0.01634424,  0.03338401,  0.01853191, -0.03037832,  0.10851377,\n",
              "       -0.00795471, -0.03078097, -0.04333522,  0.0040378 ,  0.01313747,\n",
              "       -0.03148974,  0.00835421, -0.01562976,  0.00061412, -0.02931793,\n",
              "       -0.05189868, -0.06659921,  0.01931709, -0.01791801, -0.03115047,\n",
              "        0.03500295,  0.03030638, -0.03641544, -0.00418096,  0.00212496,\n",
              "        0.0428753 ,  0.06402446, -0.03699627, -0.0568481 , -0.04252053,\n",
              "       -0.03888214, -0.01117176,  0.03393936,  0.00252087,  0.00152886,\n",
              "       -0.03945958,  0.00325578, -0.01840494, -0.02787609,  0.00666047,\n",
              "        0.01615128, -0.05878392,  0.0372638 , -0.02446488,  0.00877236],\n",
              "      dtype=float32)"
            ]
          },
          "metadata": {},
          "execution_count": 40
        }
      ],
      "source": [
        "# Visualize our embeddings\n",
        "model.dv[0]"
      ]
    },
    {
      "cell_type": "code",
      "execution_count": 41,
      "metadata": {
        "id": "A9sHs8uqg1rz"
      },
      "outputs": [],
      "source": [
        "# save the model\n",
        "from gensim.test.utils import get_tmpfile\n",
        "model_name = get_tmpfile(\"/content/my_doc2vec_model\")\n",
        "model.save(model_name)"
      ]
    },
    {
      "cell_type": "code",
      "execution_count": 42,
      "metadata": {
        "id": "J2t83xcQIftT"
      },
      "outputs": [],
      "source": [
        "# append the respective embeddings into the dataframe\n",
        "df['doc2vec'] = [list(model.dv[i]) for i in range(df.shape[0])]"
      ]
    },
    {
      "cell_type": "code",
      "execution_count": 43,
      "metadata": {
        "colab": {
          "base_uri": "https://localhost:8080/"
        },
        "id": "pzhuMjMzQUkK",
        "outputId": "f8ebb865-91fb-44cb-cb07-13270f79967d"
      },
      "outputs": [
        {
          "output_type": "execute_result",
          "data": {
            "text/plain": [
              "array([-0.00176919,  0.00199916,  0.0001458 , -0.00318866, -0.00320263,\n",
              "       -0.00393302, -0.00463751, -0.00377058,  0.00450507,  0.00067582,\n",
              "       -0.00239396, -0.00073987,  0.00431561,  0.00056175,  0.00302343,\n",
              "        0.00402881, -0.00384925,  0.00336534, -0.00236951,  0.00456594,\n",
              "        0.00316771,  0.00083225, -0.00223422,  0.0009445 ,  0.00247634,\n",
              "       -0.00465292, -0.0033156 ,  0.00020113,  0.00161084,  0.00449724,\n",
              "       -0.0021251 , -0.00204079, -0.00463605, -0.00099744, -0.00059226,\n",
              "       -0.00142908, -0.00149552,  0.00199352, -0.0036052 ,  0.00367415,\n",
              "       -0.00353515, -0.00457998,  0.003543  , -0.00190902,  0.00086711,\n",
              "       -0.00247238, -0.00428162, -0.00060012, -0.00270851, -0.00492436,\n",
              "        0.00347412,  0.00340929, -0.00443253,  0.00495183,  0.00235306,\n",
              "       -0.0026725 , -0.00387374, -0.00325281, -0.00205865,  0.00138897,\n",
              "       -0.00482885, -0.00131069,  0.00044426, -0.00055432, -0.00040387,\n",
              "       -0.00318618,  0.00351528, -0.00204405,  0.00261635, -0.00095157,\n",
              "        0.00289315, -0.00379101, -0.00123488, -0.00155979,  0.00309422,\n",
              "        0.00134135, -0.00304442,  0.0008756 ,  0.00197611, -0.00288374,\n",
              "       -0.00429138, -0.0042795 , -0.00287189, -0.00195313, -0.00277597,\n",
              "       -0.00217732,  0.00207425, -0.00040736, -0.00436093,  0.00204327,\n",
              "       -0.00331519,  0.00340784, -0.00151565, -0.00266267, -0.00207671,\n",
              "        0.00059186, -0.00029254, -0.00446041,  0.00178435, -0.00344972],\n",
              "      dtype=float32)"
            ]
          },
          "metadata": {},
          "execution_count": 43
        }
      ],
      "source": [
        "# input a target text and convert it to embeddings\n",
        "vector = model.infer_vector([\"I need a blue jeans\"])\n",
        "vector"
      ]
    },
    {
      "cell_type": "code",
      "execution_count": null,
      "metadata": {
        "id": "rA90WepAK3ne"
      },
      "outputs": [],
      "source": [
        "# save the dataframe \n",
        "df.to_csv('/content/drive/MyDrive/Embeddings.csv')"
      ]
    },
    {
      "cell_type": "code",
      "execution_count": 18,
      "metadata": {
        "id": "cVEKC--zHjbJ"
      },
      "outputs": [],
      "source": [
        "def cos_similarity(v1,v2):\n",
        "  return abs(np.dot(v1,v2))/(np.linalg.norm(v1)*np.linalg.norm(v2))"
      ]
    },
    {
      "cell_type": "code",
      "execution_count": 19,
      "metadata": {
        "id": "avPRGU-FKUN8"
      },
      "outputs": [],
      "source": [
        "def ranked_results(df, target, model):\n",
        "  # target needs to be preprocessed in the same way as the product descriptions were processed\n",
        "  if isinstance(target,str):\n",
        "    target = preprocess_txt(target)\n",
        "  #convert the processed target into embeddings\n",
        "  vector = model.infer_vector(target)\n",
        "  df_ = df[['URL','processed_text','doc2vec']]\n",
        "  # store the cosine similarity scores for each product with the target in a new column\n",
        "  df_['similarity'] = [cos_similarity(vector, df_['doc2vec'][i]) for i in range(df_.shape[0])]\n",
        "  # sort the similarity scores in descending order\n",
        "  df_.sort_values(by='similarity', ascending = False, inplace=True)\n",
        "  return df_[['URL','processed_text','similarity']].iloc[:10]\n"
      ]
    },
    {
      "cell_type": "code",
      "execution_count": 20,
      "metadata": {
        "colab": {
          "base_uri": "https://localhost:8080/",
          "height": 554
        },
        "id": "gbZh5RHyNcQi",
        "outputId": "b1161f89-0713-4d40-d40c-d74f6a437298"
      },
      "outputs": [
        {
          "output_type": "stream",
          "name": "stderr",
          "text": [
            "<ipython-input-19-a9d3a195956c>:9: SettingWithCopyWarning: \n",
            "A value is trying to be set on a copy of a slice from a DataFrame.\n",
            "Try using .loc[row_indexer,col_indexer] = value instead\n",
            "\n",
            "See the caveats in the documentation: https://pandas.pydata.org/pandas-docs/stable/user_guide/indexing.html#returning-a-view-versus-a-copy\n",
            "  df_['similarity'] = [cos_similarity(vector, df_['doc2vec'][i]) for i in range(df_.shape[0])]\n",
            "<ipython-input-19-a9d3a195956c>:11: SettingWithCopyWarning: \n",
            "A value is trying to be set on a copy of a slice from a DataFrame\n",
            "\n",
            "See the caveats in the documentation: https://pandas.pydata.org/pandas-docs/stable/user_guide/indexing.html#returning-a-view-versus-a-copy\n",
            "  df_.sort_values(by='similarity', ascending = False, inplace=True)\n"
          ]
        },
        {
          "output_type": "execute_result",
          "data": {
            "text/plain": [
              "                                                      URL  \\\n",
              "498011  https://www.myntra.com/jeans/showoff/showoff-w...   \n",
              "24530   https://www.myntra.com/briefs/amante/amante-wo...   \n",
              "240696  https://www.myntra.com/socks/bambos/bambos-men...   \n",
              "64041   https://www.myntra.com/jeans/flying-machine/fl...   \n",
              "410696  https://www.myntra.com/nightdress/erotissch/er...   \n",
              "476873  https://www.myntra.com/jeans/tarama/tarama-wom...   \n",
              "11131   https://www.myntra.com/jeans/mast--harbour/mas...   \n",
              "521607  https://www.myntra.com/jeans/only/only-women-b...   \n",
              "449139  https://www.myntra.com/tops/scorpius/scorpius-...   \n",
              "421114  https://www.myntra.com/shapewear/wuxi/wuxi-wom...   \n",
              "\n",
              "                                           processed_text  similarity  \n",
              "498011  straight stretchable women jeans high fit show...    0.879372  \n",
              "24530                          2 amante briefs women pack    0.856998  \n",
              "240696      3 bambos calf length men pack socks patterned    0.856623  \n",
              "64041   stretchable clean michael jeans look fit men r...    0.846804  \n",
              "410696           kaftan nightdress printed erotissch blue    0.846415  \n",
              "476873         leg women jeans high wide tarama rise blue    0.843426  \n",
              "11131   stretchable boyfriend women jeans fit mast har...    0.843191  \n",
              "521607                        women jeans high rise black    0.842505  \n",
              "449139                      crop scorpius top fitted blue    0.842384  \n",
              "421114             saree women solid shapewear wuxi black    0.841778  "
            ],
            "text/html": [
              "\n",
              "  <div id=\"df-3dcfcb43-a6fd-47aa-92c9-cfa314b2320b\">\n",
              "    <div class=\"colab-df-container\">\n",
              "      <div>\n",
              "<style scoped>\n",
              "    .dataframe tbody tr th:only-of-type {\n",
              "        vertical-align: middle;\n",
              "    }\n",
              "\n",
              "    .dataframe tbody tr th {\n",
              "        vertical-align: top;\n",
              "    }\n",
              "\n",
              "    .dataframe thead th {\n",
              "        text-align: right;\n",
              "    }\n",
              "</style>\n",
              "<table border=\"1\" class=\"dataframe\">\n",
              "  <thead>\n",
              "    <tr style=\"text-align: right;\">\n",
              "      <th></th>\n",
              "      <th>URL</th>\n",
              "      <th>processed_text</th>\n",
              "      <th>similarity</th>\n",
              "    </tr>\n",
              "  </thead>\n",
              "  <tbody>\n",
              "    <tr>\n",
              "      <th>498011</th>\n",
              "      <td>https://www.myntra.com/jeans/showoff/showoff-w...</td>\n",
              "      <td>straight stretchable women jeans high fit show...</td>\n",
              "      <td>0.879372</td>\n",
              "    </tr>\n",
              "    <tr>\n",
              "      <th>24530</th>\n",
              "      <td>https://www.myntra.com/briefs/amante/amante-wo...</td>\n",
              "      <td>2 amante briefs women pack</td>\n",
              "      <td>0.856998</td>\n",
              "    </tr>\n",
              "    <tr>\n",
              "      <th>240696</th>\n",
              "      <td>https://www.myntra.com/socks/bambos/bambos-men...</td>\n",
              "      <td>3 bambos calf length men pack socks patterned</td>\n",
              "      <td>0.856623</td>\n",
              "    </tr>\n",
              "    <tr>\n",
              "      <th>64041</th>\n",
              "      <td>https://www.myntra.com/jeans/flying-machine/fl...</td>\n",
              "      <td>stretchable clean michael jeans look fit men r...</td>\n",
              "      <td>0.846804</td>\n",
              "    </tr>\n",
              "    <tr>\n",
              "      <th>410696</th>\n",
              "      <td>https://www.myntra.com/nightdress/erotissch/er...</td>\n",
              "      <td>kaftan nightdress printed erotissch blue</td>\n",
              "      <td>0.846415</td>\n",
              "    </tr>\n",
              "    <tr>\n",
              "      <th>476873</th>\n",
              "      <td>https://www.myntra.com/jeans/tarama/tarama-wom...</td>\n",
              "      <td>leg women jeans high wide tarama rise blue</td>\n",
              "      <td>0.843426</td>\n",
              "    </tr>\n",
              "    <tr>\n",
              "      <th>11131</th>\n",
              "      <td>https://www.myntra.com/jeans/mast--harbour/mas...</td>\n",
              "      <td>stretchable boyfriend women jeans fit mast har...</td>\n",
              "      <td>0.843191</td>\n",
              "    </tr>\n",
              "    <tr>\n",
              "      <th>521607</th>\n",
              "      <td>https://www.myntra.com/jeans/only/only-women-b...</td>\n",
              "      <td>women jeans high rise black</td>\n",
              "      <td>0.842505</td>\n",
              "    </tr>\n",
              "    <tr>\n",
              "      <th>449139</th>\n",
              "      <td>https://www.myntra.com/tops/scorpius/scorpius-...</td>\n",
              "      <td>crop scorpius top fitted blue</td>\n",
              "      <td>0.842384</td>\n",
              "    </tr>\n",
              "    <tr>\n",
              "      <th>421114</th>\n",
              "      <td>https://www.myntra.com/shapewear/wuxi/wuxi-wom...</td>\n",
              "      <td>saree women solid shapewear wuxi black</td>\n",
              "      <td>0.841778</td>\n",
              "    </tr>\n",
              "  </tbody>\n",
              "</table>\n",
              "</div>\n",
              "      <button class=\"colab-df-convert\" onclick=\"convertToInteractive('df-3dcfcb43-a6fd-47aa-92c9-cfa314b2320b')\"\n",
              "              title=\"Convert this dataframe to an interactive table.\"\n",
              "              style=\"display:none;\">\n",
              "        \n",
              "  <svg xmlns=\"http://www.w3.org/2000/svg\" height=\"24px\"viewBox=\"0 0 24 24\"\n",
              "       width=\"24px\">\n",
              "    <path d=\"M0 0h24v24H0V0z\" fill=\"none\"/>\n",
              "    <path d=\"M18.56 5.44l.94 2.06.94-2.06 2.06-.94-2.06-.94-.94-2.06-.94 2.06-2.06.94zm-11 1L8.5 8.5l.94-2.06 2.06-.94-2.06-.94L8.5 2.5l-.94 2.06-2.06.94zm10 10l.94 2.06.94-2.06 2.06-.94-2.06-.94-.94-2.06-.94 2.06-2.06.94z\"/><path d=\"M17.41 7.96l-1.37-1.37c-.4-.4-.92-.59-1.43-.59-.52 0-1.04.2-1.43.59L10.3 9.45l-7.72 7.72c-.78.78-.78 2.05 0 2.83L4 21.41c.39.39.9.59 1.41.59.51 0 1.02-.2 1.41-.59l7.78-7.78 2.81-2.81c.8-.78.8-2.07 0-2.86zM5.41 20L4 18.59l7.72-7.72 1.47 1.35L5.41 20z\"/>\n",
              "  </svg>\n",
              "      </button>\n",
              "      \n",
              "  <style>\n",
              "    .colab-df-container {\n",
              "      display:flex;\n",
              "      flex-wrap:wrap;\n",
              "      gap: 12px;\n",
              "    }\n",
              "\n",
              "    .colab-df-convert {\n",
              "      background-color: #E8F0FE;\n",
              "      border: none;\n",
              "      border-radius: 50%;\n",
              "      cursor: pointer;\n",
              "      display: none;\n",
              "      fill: #1967D2;\n",
              "      height: 32px;\n",
              "      padding: 0 0 0 0;\n",
              "      width: 32px;\n",
              "    }\n",
              "\n",
              "    .colab-df-convert:hover {\n",
              "      background-color: #E2EBFA;\n",
              "      box-shadow: 0px 1px 2px rgba(60, 64, 67, 0.3), 0px 1px 3px 1px rgba(60, 64, 67, 0.15);\n",
              "      fill: #174EA6;\n",
              "    }\n",
              "\n",
              "    [theme=dark] .colab-df-convert {\n",
              "      background-color: #3B4455;\n",
              "      fill: #D2E3FC;\n",
              "    }\n",
              "\n",
              "    [theme=dark] .colab-df-convert:hover {\n",
              "      background-color: #434B5C;\n",
              "      box-shadow: 0px 1px 3px 1px rgba(0, 0, 0, 0.15);\n",
              "      filter: drop-shadow(0px 1px 2px rgba(0, 0, 0, 0.3));\n",
              "      fill: #FFFFFF;\n",
              "    }\n",
              "  </style>\n",
              "\n",
              "      <script>\n",
              "        const buttonEl =\n",
              "          document.querySelector('#df-3dcfcb43-a6fd-47aa-92c9-cfa314b2320b button.colab-df-convert');\n",
              "        buttonEl.style.display =\n",
              "          google.colab.kernel.accessAllowed ? 'block' : 'none';\n",
              "\n",
              "        async function convertToInteractive(key) {\n",
              "          const element = document.querySelector('#df-3dcfcb43-a6fd-47aa-92c9-cfa314b2320b');\n",
              "          const dataTable =\n",
              "            await google.colab.kernel.invokeFunction('convertToInteractive',\n",
              "                                                     [key], {});\n",
              "          if (!dataTable) return;\n",
              "\n",
              "          const docLinkHtml = 'Like what you see? Visit the ' +\n",
              "            '<a target=\"_blank\" href=https://colab.research.google.com/notebooks/data_table.ipynb>data table notebook</a>'\n",
              "            + ' to learn more about interactive tables.';\n",
              "          element.innerHTML = '';\n",
              "          dataTable['output_type'] = 'display_data';\n",
              "          await google.colab.output.renderOutput(dataTable, element);\n",
              "          const docLink = document.createElement('div');\n",
              "          docLink.innerHTML = docLinkHtml;\n",
              "          element.appendChild(docLink);\n",
              "        }\n",
              "      </script>\n",
              "    </div>\n",
              "  </div>\n",
              "  "
            ]
          },
          "metadata": {},
          "execution_count": 20
        }
      ],
      "source": [
        "target = \"Blue Jeans for women\"\n",
        "ranked_results(df, target, model)"
      ]
    },
    {
      "cell_type": "code",
      "execution_count": 21,
      "metadata": {
        "colab": {
          "base_uri": "https://localhost:8080/"
        },
        "id": "t_ZjC4bgGae0",
        "outputId": "3c616c91-651e-4cb2-d630-2162ed20bac4"
      },
      "outputs": [
        {
          "output_type": "stream",
          "name": "stdout",
          "text": [
            "Writing app.py\n"
          ]
        }
      ],
      "source": [
        "%%writefile app.py\n",
        "import streamlit as st\n",
        "\n",
        "\n",
        "def main():\n",
        "\n",
        "    import pandas as pd\n",
        "    import numpy as np\n",
        "    import nltk\n",
        "    import string\n",
        "    from nltk import word_tokenize\n",
        "    from nltk.corpus import stopwords\n",
        "    import gensim\n",
        "    from gensim.models import doc2vec\n",
        "    import ast\n",
        "    import json\n",
        "\n",
        "\n",
        "\n",
        "    def preprocess_txt(text):\n",
        "      # convert all words to lower case\n",
        "      text = text.lower()\n",
        "      # remove all punctuations \n",
        "      text_p = \"\".join([char for char in text if char not in string.punctuation])\n",
        "      # tokenize the sentence\n",
        "      words = word_tokenize(text_p)\n",
        "      # remove stop words of english corpora\n",
        "      stop_words = stopwords.words('english')\n",
        "      filtered_words = [word for word in words if word not in stop_words]\n",
        "      # remove duplicate words\n",
        "      final_text = list(set(filtered_words))\n",
        "      return final_text\n",
        "\n",
        "\n",
        "\n",
        "    def cos_similarity(v1,v2):\n",
        "      return abs(np.dot(v1,v2))/(np.linalg.norm(v1)*np.linalg.norm(v2))\n",
        "\n",
        "\n",
        "\n",
        "    def ranked_results(df, target, model):\n",
        "    # target needs to be preprocessed in the same way as the product descriptions were processed\n",
        "      if isinstance(target,str):\n",
        "        target = preprocess_txt(target)\n",
        "      #convert the processed target into embeddings\n",
        "      vector = model.infer_vector(target)\n",
        "      df_ = df[['URL','processed_text','doc2vec']]\n",
        "      # store the cosine similarity scores for each product with the target in a new column\n",
        "      df_['similarity'] = [cos_similarity(vector, ast.literal_eval(df_['doc2vec'][i])) for i in range(df_.shape[0])]\n",
        "      # sort the similarity scores in descending order\n",
        "      df_.sort_values(by='similarity', ascending = False, inplace=True)\n",
        "      url_dict = df_[['URL']].iloc[:10].to_dict()\n",
        "      json_object = json.dumps(url_dict, indent=4)\n",
        "      return json_object\n",
        "\n",
        "\n",
        "\n",
        "    df = pd.read_csv('/content/drive/MyDrive/Embeddings.csv')\n",
        "    model = doc2vec.Doc2Vec.load('/content/my_doc2vec_model')\n",
        "\n",
        "\n",
        "    st.title(\"Streamlit Similar Clothing Recomendations App\")\n",
        "    html_temp = \"\"\"\n",
        "    <div style=\"background-color:tomato;padding:10px\">\n",
        "    <h2 style=\"color:white;text-align:center;\">\"You may also like these!\"</h2>\n",
        "    </div>\n",
        "    \"\"\"\n",
        "    st.markdown(html_temp,unsafe_allow_html=True)\n",
        "    target = st.text_input(\"Input Text\",\"Type Here\")\n",
        "    result=\"\"\n",
        "    if st.button(\"Search\"):\n",
        "        result=ranked_results(df, target, model)\n",
        "    st.success('The output is {}'.format(result))\n",
        "\n",
        "if __name__=='__main__':\n",
        "    main()"
      ]
    },
    {
      "cell_type": "code",
      "execution_count": 22,
      "metadata": {
        "colab": {
          "base_uri": "https://localhost:8080/"
        },
        "id": "HkUZBrIA8coO",
        "outputId": "24fcc8bc-3b66-4095-d5b0-53547d49f69a"
      },
      "outputs": [
        {
          "output_type": "stream",
          "name": "stdout",
          "text": [
            "\u001b[K\u001b[?25h\u001b[37;40mnpm\u001b[0m \u001b[0m\u001b[30;43mWARN\u001b[0m \u001b[0m\u001b[35msaveError\u001b[0m ENOENT: no such file or directory, open '/content/package.json'\n",
            "\u001b[0m\u001b[37;40mnpm\u001b[0m \u001b[0m\u001b[34;40mnotice\u001b[0m\u001b[35m\u001b[0m created a lockfile as package-lock.json. You should commit this file.\n",
            "\u001b[0m\u001b[37;40mnpm\u001b[0m \u001b[0m\u001b[30;43mWARN\u001b[0m \u001b[0m\u001b[35menoent\u001b[0m ENOENT: no such file or directory, open '/content/package.json'\n",
            "\u001b[0m\u001b[37;40mnpm\u001b[0m \u001b[0m\u001b[30;43mWARN\u001b[0m\u001b[35m\u001b[0m content No description\n",
            "\u001b[0m\u001b[37;40mnpm\u001b[0m \u001b[0m\u001b[30;43mWARN\u001b[0m\u001b[35m\u001b[0m content No repository field.\n",
            "\u001b[0m\u001b[37;40mnpm\u001b[0m \u001b[0m\u001b[30;43mWARN\u001b[0m\u001b[35m\u001b[0m content No README data\n",
            "\u001b[0m\u001b[37;40mnpm\u001b[0m \u001b[0m\u001b[30;43mWARN\u001b[0m\u001b[35m\u001b[0m content No license field.\n",
            "\u001b[0m\n",
            "+ localtunnel@2.0.2\n",
            "added 22 packages from 22 contributors and audited 22 packages in 2.353s\n",
            "\n",
            "3 packages are looking for funding\n",
            "  run `npm fund` for details\n",
            "\n",
            "found \u001b[92m0\u001b[0m vulnerabilities\n",
            "\n",
            "\u001b[K\u001b[?25h"
          ]
        }
      ],
      "source": [
        "!npm install localtunnel"
      ]
    },
    {
      "cell_type": "code",
      "execution_count": 23,
      "metadata": {
        "id": "h7ZCq4m78fAo"
      },
      "outputs": [],
      "source": [
        "!streamlit run /content/app.py &>/content/logs.txt &"
      ]
    },
    {
      "cell_type": "code",
      "execution_count": 24,
      "metadata": {
        "colab": {
          "base_uri": "https://localhost:8080/"
        },
        "id": "9Jv79bjM8jHt",
        "outputId": "dec4ddcf-223e-44e1-a6be-ef6664241096"
      },
      "outputs": [
        {
          "output_type": "stream",
          "name": "stdout",
          "text": [
            "34.125.112.200"
          ]
        }
      ],
      "source": [
        "!curl ipecho.net/plain"
      ]
    },
    {
      "cell_type": "code",
      "execution_count": 25,
      "metadata": {
        "colab": {
          "base_uri": "https://localhost:8080/"
        },
        "id": "Y9K2D3mJ8lmr",
        "outputId": "20fc5b3d-1836-4e1d-f793-da075621da38"
      },
      "outputs": [
        {
          "output_type": "stream",
          "name": "stdout",
          "text": [
            "\u001b[K\u001b[?25hnpx: installed 22 in 3.657s\n",
            "your url is: https://happy-times-flash.loca.lt\n",
            "/root/.npm/_npx/3479/lib/node_modules/localtunnel/bin/lt.js:81\n",
            "    throw err;\n",
            "    ^\n",
            "\n",
            "Error: connection refused: localtunnel.me:43155 (check your firewall settings)\n",
            "    at Socket.<anonymous> (/root/.npm/_npx/3479/lib/node_modules/\u001b[4mlocaltunnel\u001b[24m/lib/TunnelCluster.js:52:11)\n",
            "\u001b[90m    at Socket.emit (events.js:315:20)\u001b[39m\n",
            "\u001b[90m    at emitErrorNT (internal/streams/destroy.js:106:8)\u001b[39m\n",
            "\u001b[90m    at emitErrorCloseNT (internal/streams/destroy.js:74:3)\u001b[39m\n",
            "\u001b[90m    at processTicksAndRejections (internal/process/task_queues.js:80:21)\u001b[39m\n"
          ]
        }
      ],
      "source": [
        "!npx localtunnel --port 8501"
      ]
    },
    {
      "cell_type": "code",
      "execution_count": 27,
      "metadata": {
        "colab": {
          "base_uri": "https://localhost:8080/",
          "height": 293
        },
        "id": "_2M9bY-f8yHw",
        "outputId": "56b0ef3e-1f4c-4bb1-d312-75abd39ef436"
      },
      "outputs": [
        {
          "output_type": "stream",
          "name": "stderr",
          "text": [
            "<ipython-input-27-caf1e0a4eb5b>:1: DtypeWarning: Columns (10) have mixed types. Specify dtype option on import or set low_memory=False.\n",
            "  df1 = pd.read_csv('/content/drive/MyDrive/Embeddings.csv')\n"
          ]
        },
        {
          "output_type": "error",
          "ename": "UFuncTypeError",
          "evalue": "ignored",
          "traceback": [
            "\u001b[0;31m---------------------------------------------------------------------------\u001b[0m",
            "\u001b[0;31mUFuncTypeError\u001b[0m                            Traceback (most recent call last)",
            "\u001b[0;32m<ipython-input-27-caf1e0a4eb5b>\u001b[0m in \u001b[0;36m<cell line: 4>\u001b[0;34m()\u001b[0m\n\u001b[1;32m      2\u001b[0m \u001b[0mmodel1\u001b[0m \u001b[0;34m=\u001b[0m \u001b[0mdoc2vec\u001b[0m\u001b[0;34m.\u001b[0m\u001b[0mDoc2Vec\u001b[0m\u001b[0;34m.\u001b[0m\u001b[0mload\u001b[0m\u001b[0;34m(\u001b[0m\u001b[0;34m'/content/my_doc2vec_model'\u001b[0m\u001b[0;34m)\u001b[0m\u001b[0;34m\u001b[0m\u001b[0;34m\u001b[0m\u001b[0m\n\u001b[1;32m      3\u001b[0m \u001b[0mtarget\u001b[0m \u001b[0;34m=\u001b[0m \u001b[0;34m\"Blue Jeans for women\"\u001b[0m\u001b[0;34m\u001b[0m\u001b[0;34m\u001b[0m\u001b[0m\n\u001b[0;32m----> 4\u001b[0;31m \u001b[0mranked_results\u001b[0m\u001b[0;34m(\u001b[0m\u001b[0mdf1\u001b[0m\u001b[0;34m,\u001b[0m \u001b[0mtarget\u001b[0m\u001b[0;34m,\u001b[0m \u001b[0mmodel1\u001b[0m\u001b[0;34m)\u001b[0m\u001b[0;34m\u001b[0m\u001b[0;34m\u001b[0m\u001b[0m\n\u001b[0m",
            "\u001b[0;32m<ipython-input-19-a9d3a195956c>\u001b[0m in \u001b[0;36mranked_results\u001b[0;34m(df, target, model)\u001b[0m\n\u001b[1;32m      7\u001b[0m   \u001b[0mdf_\u001b[0m \u001b[0;34m=\u001b[0m \u001b[0mdf\u001b[0m\u001b[0;34m[\u001b[0m\u001b[0;34m[\u001b[0m\u001b[0;34m'URL'\u001b[0m\u001b[0;34m,\u001b[0m\u001b[0;34m'processed_text'\u001b[0m\u001b[0;34m,\u001b[0m\u001b[0;34m'doc2vec'\u001b[0m\u001b[0;34m]\u001b[0m\u001b[0;34m]\u001b[0m\u001b[0;34m\u001b[0m\u001b[0;34m\u001b[0m\u001b[0m\n\u001b[1;32m      8\u001b[0m   \u001b[0;31m# store the cosine similarity scores for each product with the target in a new column\u001b[0m\u001b[0;34m\u001b[0m\u001b[0;34m\u001b[0m\u001b[0m\n\u001b[0;32m----> 9\u001b[0;31m   \u001b[0mdf_\u001b[0m\u001b[0;34m[\u001b[0m\u001b[0;34m'similarity'\u001b[0m\u001b[0;34m]\u001b[0m \u001b[0;34m=\u001b[0m \u001b[0;34m[\u001b[0m\u001b[0mcos_similarity\u001b[0m\u001b[0;34m(\u001b[0m\u001b[0mvector\u001b[0m\u001b[0;34m,\u001b[0m \u001b[0mdf_\u001b[0m\u001b[0;34m[\u001b[0m\u001b[0;34m'doc2vec'\u001b[0m\u001b[0;34m]\u001b[0m\u001b[0;34m[\u001b[0m\u001b[0mi\u001b[0m\u001b[0;34m]\u001b[0m\u001b[0;34m)\u001b[0m \u001b[0;32mfor\u001b[0m \u001b[0mi\u001b[0m \u001b[0;32min\u001b[0m \u001b[0mrange\u001b[0m\u001b[0;34m(\u001b[0m\u001b[0mdf_\u001b[0m\u001b[0;34m.\u001b[0m\u001b[0mshape\u001b[0m\u001b[0;34m[\u001b[0m\u001b[0;36m0\u001b[0m\u001b[0;34m]\u001b[0m\u001b[0;34m)\u001b[0m\u001b[0;34m]\u001b[0m\u001b[0;34m\u001b[0m\u001b[0;34m\u001b[0m\u001b[0m\n\u001b[0m\u001b[1;32m     10\u001b[0m   \u001b[0;31m# sort the similarity scores in descending order\u001b[0m\u001b[0;34m\u001b[0m\u001b[0;34m\u001b[0m\u001b[0m\n\u001b[1;32m     11\u001b[0m   \u001b[0mdf_\u001b[0m\u001b[0;34m.\u001b[0m\u001b[0msort_values\u001b[0m\u001b[0;34m(\u001b[0m\u001b[0mby\u001b[0m\u001b[0;34m=\u001b[0m\u001b[0;34m'similarity'\u001b[0m\u001b[0;34m,\u001b[0m \u001b[0mascending\u001b[0m \u001b[0;34m=\u001b[0m \u001b[0;32mFalse\u001b[0m\u001b[0;34m,\u001b[0m \u001b[0minplace\u001b[0m\u001b[0;34m=\u001b[0m\u001b[0;32mTrue\u001b[0m\u001b[0;34m)\u001b[0m\u001b[0;34m\u001b[0m\u001b[0;34m\u001b[0m\u001b[0m\n",
            "\u001b[0;32m<ipython-input-19-a9d3a195956c>\u001b[0m in \u001b[0;36m<listcomp>\u001b[0;34m(.0)\u001b[0m\n\u001b[1;32m      7\u001b[0m   \u001b[0mdf_\u001b[0m \u001b[0;34m=\u001b[0m \u001b[0mdf\u001b[0m\u001b[0;34m[\u001b[0m\u001b[0;34m[\u001b[0m\u001b[0;34m'URL'\u001b[0m\u001b[0;34m,\u001b[0m\u001b[0;34m'processed_text'\u001b[0m\u001b[0;34m,\u001b[0m\u001b[0;34m'doc2vec'\u001b[0m\u001b[0;34m]\u001b[0m\u001b[0;34m]\u001b[0m\u001b[0;34m\u001b[0m\u001b[0;34m\u001b[0m\u001b[0m\n\u001b[1;32m      8\u001b[0m   \u001b[0;31m# store the cosine similarity scores for each product with the target in a new column\u001b[0m\u001b[0;34m\u001b[0m\u001b[0;34m\u001b[0m\u001b[0m\n\u001b[0;32m----> 9\u001b[0;31m   \u001b[0mdf_\u001b[0m\u001b[0;34m[\u001b[0m\u001b[0;34m'similarity'\u001b[0m\u001b[0;34m]\u001b[0m \u001b[0;34m=\u001b[0m \u001b[0;34m[\u001b[0m\u001b[0mcos_similarity\u001b[0m\u001b[0;34m(\u001b[0m\u001b[0mvector\u001b[0m\u001b[0;34m,\u001b[0m \u001b[0mdf_\u001b[0m\u001b[0;34m[\u001b[0m\u001b[0;34m'doc2vec'\u001b[0m\u001b[0;34m]\u001b[0m\u001b[0;34m[\u001b[0m\u001b[0mi\u001b[0m\u001b[0;34m]\u001b[0m\u001b[0;34m)\u001b[0m \u001b[0;32mfor\u001b[0m \u001b[0mi\u001b[0m \u001b[0;32min\u001b[0m \u001b[0mrange\u001b[0m\u001b[0;34m(\u001b[0m\u001b[0mdf_\u001b[0m\u001b[0;34m.\u001b[0m\u001b[0mshape\u001b[0m\u001b[0;34m[\u001b[0m\u001b[0;36m0\u001b[0m\u001b[0;34m]\u001b[0m\u001b[0;34m)\u001b[0m\u001b[0;34m]\u001b[0m\u001b[0;34m\u001b[0m\u001b[0;34m\u001b[0m\u001b[0m\n\u001b[0m\u001b[1;32m     10\u001b[0m   \u001b[0;31m# sort the similarity scores in descending order\u001b[0m\u001b[0;34m\u001b[0m\u001b[0;34m\u001b[0m\u001b[0m\n\u001b[1;32m     11\u001b[0m   \u001b[0mdf_\u001b[0m\u001b[0;34m.\u001b[0m\u001b[0msort_values\u001b[0m\u001b[0;34m(\u001b[0m\u001b[0mby\u001b[0m\u001b[0;34m=\u001b[0m\u001b[0;34m'similarity'\u001b[0m\u001b[0;34m,\u001b[0m \u001b[0mascending\u001b[0m \u001b[0;34m=\u001b[0m \u001b[0;32mFalse\u001b[0m\u001b[0;34m,\u001b[0m \u001b[0minplace\u001b[0m\u001b[0;34m=\u001b[0m\u001b[0;32mTrue\u001b[0m\u001b[0;34m)\u001b[0m\u001b[0;34m\u001b[0m\u001b[0;34m\u001b[0m\u001b[0m\n",
            "\u001b[0;32m<ipython-input-18-367966403af3>\u001b[0m in \u001b[0;36mcos_similarity\u001b[0;34m(v1, v2)\u001b[0m\n\u001b[1;32m      1\u001b[0m \u001b[0;32mdef\u001b[0m \u001b[0mcos_similarity\u001b[0m\u001b[0;34m(\u001b[0m\u001b[0mv1\u001b[0m\u001b[0;34m,\u001b[0m\u001b[0mv2\u001b[0m\u001b[0;34m)\u001b[0m\u001b[0;34m:\u001b[0m\u001b[0;34m\u001b[0m\u001b[0;34m\u001b[0m\u001b[0m\n\u001b[0;32m----> 2\u001b[0;31m   \u001b[0;32mreturn\u001b[0m \u001b[0mabs\u001b[0m\u001b[0;34m(\u001b[0m\u001b[0mnp\u001b[0m\u001b[0;34m.\u001b[0m\u001b[0mdot\u001b[0m\u001b[0;34m(\u001b[0m\u001b[0mv1\u001b[0m\u001b[0;34m,\u001b[0m\u001b[0mv2\u001b[0m\u001b[0;34m)\u001b[0m\u001b[0;34m)\u001b[0m\u001b[0;34m/\u001b[0m\u001b[0;34m(\u001b[0m\u001b[0mnp\u001b[0m\u001b[0;34m.\u001b[0m\u001b[0mlinalg\u001b[0m\u001b[0;34m.\u001b[0m\u001b[0mnorm\u001b[0m\u001b[0;34m(\u001b[0m\u001b[0mv1\u001b[0m\u001b[0;34m)\u001b[0m\u001b[0;34m*\u001b[0m\u001b[0mnp\u001b[0m\u001b[0;34m.\u001b[0m\u001b[0mlinalg\u001b[0m\u001b[0;34m.\u001b[0m\u001b[0mnorm\u001b[0m\u001b[0;34m(\u001b[0m\u001b[0mv2\u001b[0m\u001b[0;34m)\u001b[0m\u001b[0;34m)\u001b[0m\u001b[0;34m\u001b[0m\u001b[0;34m\u001b[0m\u001b[0m\n\u001b[0m",
            "\u001b[0;32m/usr/local/lib/python3.10/dist-packages/numpy/core/overrides.py\u001b[0m in \u001b[0;36mdot\u001b[0;34m(*args, **kwargs)\u001b[0m\n",
            "\u001b[0;31mUFuncTypeError\u001b[0m: ufunc 'multiply' did not contain a loop with signature matching types (dtype('<U32'), dtype('<U1329')) -> None"
          ]
        }
      ],
      "source": [
        "df1 = pd.read_csv('/content/drive/MyDrive/Embeddings.csv')\n",
        "model1 = doc2vec.Doc2Vec.load('/content/my_doc2vec_model')\n",
        "target = \"Blue Jeans for women\"\n",
        "ranked_results(df1, target, model1)"
      ]
    },
    {
      "cell_type": "code",
      "execution_count": null,
      "metadata": {
        "id": "bUsOP7rXkzbA"
      },
      "outputs": [],
      "source": [
        "import ast\n",
        "target = \"Blue Jeans for women\"\n",
        "vector = model.infer_vector(preprocess_txt(target))\n",
        "cos_similarity(ast.literal_eval(df1 ['doc2vec'][0]),vector)"
      ]
    },
    {
      "cell_type": "code",
      "source": [],
      "metadata": {
        "id": "o2EuFlwb5Ex8"
      },
      "execution_count": null,
      "outputs": []
    }
  ],
  "metadata": {
    "colab": {
      "provenance": []
    },
    "kernelspec": {
      "display_name": "Python 3",
      "name": "python3"
    },
    "language_info": {
      "name": "python"
    }
  },
  "nbformat": 4,
  "nbformat_minor": 0
}